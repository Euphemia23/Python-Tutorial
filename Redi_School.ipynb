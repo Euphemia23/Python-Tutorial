{
  "nbformat": 4,
  "nbformat_minor": 0,
  "metadata": {
    "colab": {
      "name": "Redi School",
      "provenance": [],
      "authorship_tag": "ABX9TyOBYyb9fzl57EPv9DLJIcuw",
      "include_colab_link": true
    },
    "kernelspec": {
      "name": "python3",
      "display_name": "Python 3"
    },
    "language_info": {
      "name": "python"
    }
  },
  "cells": [
    {
      "cell_type": "markdown",
      "metadata": {
        "id": "view-in-github",
        "colab_type": "text"
      },
      "source": [
        "<a href=\"https://colab.research.google.com/github/Euphemia23/Python-Tutorial/blob/main/Redi_School.ipynb\" target=\"_parent\"><img src=\"https://colab.research.google.com/assets/colab-badge.svg\" alt=\"Open In Colab\"/></a>"
      ]
    },
    {
      "cell_type": "code",
      "execution_count": 1,
      "metadata": {
        "colab": {
          "base_uri": "https://localhost:8080/"
        },
        "id": "c-RZRfzbK8wg",
        "outputId": "a955539c-81a2-448d-ce7e-625b1bf99988"
      },
      "outputs": [
        {
          "output_type": "stream",
          "name": "stdout",
          "text": [
            "Hello ReDI School!\n"
          ]
        }
      ],
      "source": [
        "print(\"Hello ReDI School!\")"
      ]
    },
    {
      "cell_type": "markdown",
      "source": [
        ""
      ],
      "metadata": {
        "id": "cnmLGxJSLAF5"
      }
    },
    {
      "cell_type": "code",
      "source": [
        ""
      ],
      "metadata": {
        "id": "0ThwDgUrLAgM"
      },
      "execution_count": null,
      "outputs": []
    },
    {
      "cell_type": "markdown",
      "source": [
        "# Task 1"
      ],
      "metadata": {
        "id": "Is7yJcIiG_1O"
      }
    },
    {
      "cell_type": "code",
      "source": [
        "print(\"Hello ReDI School!\")"
      ],
      "metadata": {
        "colab": {
          "base_uri": "https://localhost:8080/"
        },
        "id": "UNuqfLS7HY9m",
        "outputId": "aed8c42b-fb54-4ade-9e94-13edb089cfaa"
      },
      "execution_count": 2,
      "outputs": [
        {
          "output_type": "stream",
          "name": "stdout",
          "text": [
            "Hello ReDI School!\n"
          ]
        }
      ]
    },
    {
      "cell_type": "markdown",
      "source": [
        ""
      ],
      "metadata": {
        "id": "cFxLO3WdHFpo"
      }
    },
    {
      "cell_type": "markdown",
      "source": [
        "# Task 2"
      ],
      "metadata": {
        "id": "9RTAZwYoHdGo"
      }
    },
    {
      "cell_type": "code",
      "source": [
        "print(2 + 3)"
      ],
      "metadata": {
        "colab": {
          "base_uri": "https://localhost:8080/"
        },
        "id": "BmOwfem8HjPf",
        "outputId": "2a2a583c-b9e6-4269-d2d9-a9d629412580"
      },
      "execution_count": 3,
      "outputs": [
        {
          "output_type": "stream",
          "name": "stdout",
          "text": [
            "5\n"
          ]
        }
      ]
    },
    {
      "cell_type": "code",
      "source": [
        ""
      ],
      "metadata": {
        "id": "EMLGJu55HvOJ"
      },
      "execution_count": null,
      "outputs": []
    }
  ]
}